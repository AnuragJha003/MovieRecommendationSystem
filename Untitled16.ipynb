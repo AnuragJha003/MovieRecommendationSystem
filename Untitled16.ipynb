{
 "cells": [
  {
   "cell_type": "code",
   "execution_count": 1,
   "id": "80f3f660",
   "metadata": {},
   "outputs": [
    {
     "name": "stderr",
     "output_type": "stream",
     "text": [
      "2022-11-16 22:01:39.380 \n",
      "  \u001b[33m\u001b[1mWarning:\u001b[0m to view this Streamlit app on a browser, run it with the following\n",
      "  command:\n",
      "\n",
      "    streamlit run C:\\Users\\ajha8\\anaconda3\\envs\\tf_new\\lib\\site-packages\\ipykernel_launcher.py [ARGUMENTS]\n"
     ]
    }
   ],
   "source": [
    "import streamlit as st\n",
    "import pickle\n",
    "import pandas as pd\n",
    "\n",
    "def recommend(movie):\n",
    "    movie_index=movies[movies['title']==movie].index[0]\n",
    "    distances=similarity[movie_index]\n",
    "    movie_list=sorted(list(enumerate(distances)),reverse=True,key=lambda x:x[1])[1:6]\n",
    "    \n",
    "    recommended_movies=[]\n",
    "    for i in movie_list:\n",
    "        recommended_movies.append(movies.iloc[i[0]].title)\n",
    "    return recommended_movies\n",
    "movies_dict=pickle.load(open('movies_dict.pkl','rb'))\n",
    "movies=pd.DataFrame(movies_dict)\n",
    "\n",
    "similarity=pickle.load(open('similarity.pkl','rb'))\n",
    "\n",
    "st.title('ANURAG:THE MOVIE RECOMMENDATION SYSTEM ')\n",
    "option=st.selectbox('SELECT YOUR MOVIE: ',movies['title'].values)\n",
    "\n",
    "if st.button('Recommend'):\n",
    "    recommendations=recommend(option)\n",
    "    for i in recommendations:\n",
    "        st.write(i)\n",
    "\n"
   ]
  },
  {
   "cell_type": "code",
   "execution_count": null,
   "id": "f5794ebc",
   "metadata": {},
   "outputs": [],
   "source": []
  },
  {
   "cell_type": "code",
   "execution_count": null,
   "id": "1fa05c28",
   "metadata": {},
   "outputs": [],
   "source": []
  }
 ],
 "metadata": {
  "kernelspec": {
   "display_name": "Python 3 (ipykernel)",
   "language": "python",
   "name": "python3"
  },
  "language_info": {
   "codemirror_mode": {
    "name": "ipython",
    "version": 3
   },
   "file_extension": ".py",
   "mimetype": "text/x-python",
   "name": "python",
   "nbconvert_exporter": "python",
   "pygments_lexer": "ipython3",
   "version": "3.9.12"
  }
 },
 "nbformat": 4,
 "nbformat_minor": 5
}
